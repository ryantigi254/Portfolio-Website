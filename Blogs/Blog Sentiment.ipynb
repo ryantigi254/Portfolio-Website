{
 "cells": [
  {
   "cell_type": "code",
   "execution_count": 1,
   "metadata": {},
   "outputs": [
    {
     "name": "stdout",
     "output_type": "stream",
     "text": [
      "Defaulting to user installation because normal site-packages is not writeableNote: you may need to restart the kernel to use updated packages.\n",
      "\n",
      "Looking in indexes: https://pypi.org/simple, https://pypi.ngc.nvidia.com\n",
      "Collecting textstat\n",
      "  Downloading textstat-0.7.4-py3-none-any.whl.metadata (14 kB)\n",
      "Collecting pyphen (from textstat)\n",
      "  Downloading pyphen-0.16.0-py3-none-any.whl.metadata (3.2 kB)\n",
      "Requirement already satisfied: setuptools in c:\\programdata\\anaconda3\\lib\\site-packages (from textstat) (69.5.1)\n",
      "Downloading textstat-0.7.4-py3-none-any.whl (105 kB)\n",
      "   ---------------------------------------- 0.0/105.1 kB ? eta -:--:--\n",
      "   ----------------------- ---------------- 61.4/105.1 kB 1.7 MB/s eta 0:00:01\n",
      "   ---------------------------------------- 105.1/105.1 kB 2.1 MB/s eta 0:00:00\n",
      "Downloading pyphen-0.16.0-py3-none-any.whl (2.1 MB)\n",
      "   ---------------------------------------- 0.0/2.1 MB ? eta -:--:--\n",
      "   - -------------------------------------- 0.1/2.1 MB 2.0 MB/s eta 0:00:02\n",
      "   --- ------------------------------------ 0.2/2.1 MB 2.5 MB/s eta 0:00:01\n",
      "   ------ --------------------------------- 0.3/2.1 MB 2.4 MB/s eta 0:00:01\n",
      "   --------- ------------------------------ 0.5/2.1 MB 2.7 MB/s eta 0:00:01\n",
      "   ---------- ----------------------------- 0.6/2.1 MB 2.5 MB/s eta 0:00:01\n",
      "   ------------ --------------------------- 0.6/2.1 MB 2.4 MB/s eta 0:00:01\n",
      "   --------------- ------------------------ 0.8/2.1 MB 2.5 MB/s eta 0:00:01\n",
      "   ------------------ --------------------- 1.0/2.1 MB 2.7 MB/s eta 0:00:01\n",
      "   -------------------- ------------------- 1.1/2.1 MB 2.6 MB/s eta 0:00:01\n",
      "   ---------------------- ----------------- 1.2/2.1 MB 2.5 MB/s eta 0:00:01\n",
      "   ------------------------ --------------- 1.3/2.1 MB 2.6 MB/s eta 0:00:01\n",
      "   -------------------------- ------------- 1.4/2.1 MB 2.5 MB/s eta 0:00:01\n",
      "   ----------------------------- ---------- 1.5/2.1 MB 2.5 MB/s eta 0:00:01\n",
      "   ------------------------------- -------- 1.6/2.1 MB 2.5 MB/s eta 0:00:01\n",
      "   --------------------------------- ------ 1.8/2.1 MB 2.5 MB/s eta 0:00:01\n",
      "   ------------------------------------ --- 1.9/2.1 MB 2.6 MB/s eta 0:00:01\n",
      "   ---------------------------------------  2.0/2.1 MB 2.6 MB/s eta 0:00:01\n",
      "   ---------------------------------------- 2.1/2.1 MB 2.6 MB/s eta 0:00:00\n",
      "Installing collected packages: pyphen, textstat\n",
      "Successfully installed pyphen-0.16.0 textstat-0.7.4\n",
      "Defaulting to user installation because normal site-packages is not writeableNote: you may need to restart the kernel to use updated packages.\n",
      "\n",
      "Looking in indexes: https://pypi.org/simple, https://pypi.ngc.nvidia.com\n",
      "Collecting textblob\n",
      "  Downloading textblob-0.18.0.post0-py3-none-any.whl.metadata (4.5 kB)\n",
      "Requirement already satisfied: nltk>=3.8 in c:\\programdata\\anaconda3\\lib\\site-packages (from textblob) (3.8.1)\n",
      "Requirement already satisfied: click in c:\\programdata\\anaconda3\\lib\\site-packages (from nltk>=3.8->textblob) (8.1.7)\n",
      "Requirement already satisfied: joblib in c:\\programdata\\anaconda3\\lib\\site-packages (from nltk>=3.8->textblob) (1.4.2)\n",
      "Requirement already satisfied: regex>=2021.8.3 in c:\\programdata\\anaconda3\\lib\\site-packages (from nltk>=3.8->textblob) (2023.10.3)\n",
      "Requirement already satisfied: tqdm in c:\\programdata\\anaconda3\\lib\\site-packages (from nltk>=3.8->textblob) (4.66.4)\n",
      "Requirement already satisfied: colorama in c:\\programdata\\anaconda3\\lib\\site-packages (from click->nltk>=3.8->textblob) (0.4.6)\n",
      "Downloading textblob-0.18.0.post0-py3-none-any.whl (626 kB)\n",
      "   ---------------------------------------- 0.0/626.3 kB ? eta -:--:--\n",
      "   - ------------------------------------- 20.5/626.3 kB 330.3 kB/s eta 0:00:02\n",
      "   ----- ---------------------------------- 92.2/626.3 kB 1.3 MB/s eta 0:00:01\n",
      "   --------- ------------------------------ 143.4/626.3 kB 1.4 MB/s eta 0:00:01\n",
      "   ---------------- ----------------------- 256.0/626.3 kB 1.6 MB/s eta 0:00:01\n",
      "   ------------------- -------------------- 307.2/626.3 kB 1.7 MB/s eta 0:00:01\n",
      "   --------------------------- ------------ 430.1/626.3 kB 1.7 MB/s eta 0:00:01\n",
      "   ---------------------------------------- 626.3/626.3 kB 2.0 MB/s eta 0:00:00\n",
      "Installing collected packages: textblob\n",
      "Successfully installed textblob-0.18.0.post0\n"
     ]
    }
   ],
   "source": [
    "%pip install textstat\n",
    "%pip install textblob\n",
    "\n"
   ]
  },
  {
   "cell_type": "code",
   "execution_count": 2,
   "metadata": {},
   "outputs": [
    {
     "name": "stdout",
     "output_type": "stream",
     "text": [
      "Intro Blog Analysis:\n",
      "{'reading_ease': 55.78, 'kincaid_grade': 11.4, 'dale_chall_score': 8.48, 'sentiment_polarity': 0.20985588485588494, 'sentiment_subjectivity': 0.4900789025789025}\n",
      "\n",
      "First Blog Analysis:\n",
      "{'reading_ease': 57.3, 'kincaid_grade': 10.8, 'dale_chall_score': 8.03, 'sentiment_polarity': 0.11882188738984859, 'sentiment_subjectivity': 0.4884955659227503}\n"
     ]
    }
   ],
   "source": [
    "from textstat import flesch_reading_ease, flesch_kincaid_grade, dale_chall_readability_score\n",
    "from textblob import TextBlob\n",
    "\n",
    "# Load the content of the blog posts\n",
    "file_paths = {\n",
    "    \"intro_blog\": r\"E:\\Personal Folder\\Info\\Portfolio Website\\Blogs\\Intro Blog\\Intro Blog.md\",\n",
    "    \"first_blog\": r\"E:\\Personal Folder\\Info\\Portfolio Website\\Blogs\\First Blog\\First Blog.md\"\n",
    "}\n",
    "\n",
    "# Read the content from each file\n",
    "blogs = {}\n",
    "for name, path in file_paths.items():\n",
    "    with open(path, 'r') as file:\n",
    "        blogs[name] = file.read()\n",
    "\n",
    "# Function to analyze readability and sentiment\n",
    "def analyze_blog(blog_content):\n",
    "    # Readability analysis using textstat\n",
    "    reading_ease = flesch_reading_ease(blog_content)\n",
    "    kincaid_grade = flesch_kincaid_grade(blog_content)\n",
    "    dale_chall_score = dale_chall_readability_score(blog_content)\n",
    "\n",
    "    # Sentiment analysis using TextBlob\n",
    "    blob = TextBlob(blog_content)\n",
    "    sentiment = blob.sentiment\n",
    "\n",
    "    return {\n",
    "        \"reading_ease\": reading_ease,\n",
    "        \"kincaid_grade\": kincaid_grade,\n",
    "        \"dale_chall_score\": dale_chall_score,\n",
    "        \"sentiment_polarity\": sentiment.polarity,\n",
    "        \"sentiment_subjectivity\": sentiment.subjectivity\n",
    "    }\n",
    "\n",
    "# Analyze both blog posts\n",
    "intro_blog_analysis = analyze_blog(blogs[\"intro_blog\"])\n",
    "first_blog_analysis = analyze_blog(blogs[\"first_blog\"])\n",
    "\n",
    "# Display the analysis results\n",
    "print(\"Intro Blog Analysis:\")\n",
    "print(intro_blog_analysis)\n",
    "print(\"\\nFirst Blog Analysis:\")\n",
    "print(first_blog_analysis)\n"
   ]
  },
  {
   "cell_type": "code",
   "execution_count": null,
   "metadata": {},
   "outputs": [],
   "source": []
  }
 ],
 "metadata": {
  "kernelspec": {
   "display_name": "base",
   "language": "python",
   "name": "python3"
  },
  "language_info": {
   "codemirror_mode": {
    "name": "ipython",
    "version": 3
   },
   "file_extension": ".py",
   "mimetype": "text/x-python",
   "name": "python",
   "nbconvert_exporter": "python",
   "pygments_lexer": "ipython3",
   "version": "3.12.7"
  }
 },
 "nbformat": 4,
 "nbformat_minor": 2
}
